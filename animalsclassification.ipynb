{
 "cells": [
  {
   "cell_type": "markdown",
   "metadata": {},
   "source": [
    "### necessary libraries import "
   ]
  },
  {
   "cell_type": "code",
   "execution_count": 3,
   "metadata": {},
   "outputs": [],
   "source": [
    "from tensorflow.keras.preprocessing.image import  ImageDataGenerator\n",
    "from tensorflow.keras.layers import Conv2D,MaxPooling2D ,Flatten,Dense,Dropout\n",
    "from tensorflow.keras.models import Sequential\n",
    "\n"
   ]
  },
  {
   "cell_type": "markdown",
   "metadata": {},
   "source": [
    "### train-validation data split"
   ]
  },
  {
   "cell_type": "code",
   "execution_count": 17,
   "metadata": {},
   "outputs": [
    {
     "name": "stdout",
     "output_type": "stream",
     "text": [
      "Found 4320 images belonging to 90 classes.\n",
      "Found 1080 images belonging to 90 classes.\n"
     ]
    }
   ],
   "source": [
    "\n",
    "datagen=ImageDataGenerator(\n",
    "    rescale=1/255,validation_split=0.2\n",
    ")\n",
    "train_generator=datagen.flow_from_directory('dataset/animals', target_size=(224,224),batch_size=32,class_mode=\"categorical\",subset=\"training\")\n",
    "test_generator=datagen.flow_from_directory('dataset/animals', target_size=(224,224),batch_size=32,class_mode=\"categorical\",subset=\"validation\")\n"
   ]
  },
  {
   "cell_type": "markdown",
   "metadata": {},
   "source": [
    "### pretrained model VGG-16 import "
   ]
  },
  {
   "cell_type": "code",
   "execution_count": 19,
   "metadata": {},
   "outputs": [],
   "source": [
    "from keras.applications.vgg16 import VGG16\n",
    "vgg=VGG16(input_shape=(224,224,3))"
   ]
  },
  {
   "cell_type": "code",
   "execution_count": 20,
   "metadata": {},
   "outputs": [],
   "source": [
    "from keras import Sequential\n",
    "model=Sequential()\n"
   ]
  },
  {
   "cell_type": "markdown",
   "metadata": {},
   "source": [
    "### removing the prediction layer "
   ]
  },
  {
   "cell_type": "code",
   "execution_count": 21,
   "metadata": {},
   "outputs": [],
   "source": [
    "for layer in vgg.layers[:-1]:\n",
    "    model.add(layer)"
   ]
  },
  {
   "cell_type": "code",
   "execution_count": 22,
   "metadata": {},
   "outputs": [],
   "source": [
    "for layer in model.layers:\n",
    "    layer.trainable=False"
   ]
  },
  {
   "cell_type": "markdown",
   "metadata": {},
   "source": [
    "### addition the output layer for 90 classes "
   ]
  },
  {
   "cell_type": "code",
   "execution_count": 23,
   "metadata": {},
   "outputs": [],
   "source": [
    "model.add(Dense(90,activation='softmax'))"
   ]
  },
  {
   "cell_type": "markdown",
   "metadata": {},
   "source": [
    "### compiling the model "
   ]
  },
  {
   "cell_type": "code",
   "execution_count": 24,
   "metadata": {},
   "outputs": [],
   "source": [
    "model.compile(optimizer='Adam',loss='categorical_crossentropy',metrics=['accuracy'])"
   ]
  },
  {
   "cell_type": "markdown",
   "metadata": {},
   "source": [
    "### callback earlyStopping to get better accuracy "
   ]
  },
  {
   "cell_type": "code",
   "execution_count": 25,
   "metadata": {},
   "outputs": [],
   "source": [
    "from tensorflow.keras.callbacks import EarlyStopping"
   ]
  },
  {
   "cell_type": "code",
   "execution_count": 26,
   "metadata": {},
   "outputs": [],
   "source": [
    "callback=EarlyStopping(\n",
    "     monitor=\"val_loss\",\n",
    "     min_delta=0.0001,\n",
    "     patience=5,\n",
    "     verbose=1,\n",
    "     mode=\"auto\",\n",
    "     baseline=None,\n",
    "     restore_best_weights=False,\n",
    "     \n",
    "\n",
    ")"
   ]
  },
  {
   "cell_type": "markdown",
   "metadata": {},
   "source": [
    "### Model Training "
   ]
  },
  {
   "cell_type": "code",
   "execution_count": 27,
   "metadata": {},
   "outputs": [
    {
     "name": "stdout",
     "output_type": "stream",
     "text": [
      "Epoch 1/50\n",
      "135/135 [==============================] - 1788s 13s/step - loss: 4.5029 - accuracy: 0.0935 - val_loss: 3.8792 - val_accuracy: 0.1361\n",
      "Epoch 2/50\n",
      "135/135 [==============================] - 1708s 13s/step - loss: 3.2926 - accuracy: 0.2370 - val_loss: 3.3685 - val_accuracy: 0.2361\n",
      "Epoch 3/50\n",
      "135/135 [==============================] - 1732s 13s/step - loss: 2.8035 - accuracy: 0.3329 - val_loss: 3.0416 - val_accuracy: 0.3028\n",
      "Epoch 4/50\n",
      "135/135 [==============================] - 1694s 13s/step - loss: 2.5102 - accuracy: 0.3905 - val_loss: 2.9831 - val_accuracy: 0.2667\n",
      "Epoch 5/50\n",
      "135/135 [==============================] - 1692s 13s/step - loss: 2.3116 - accuracy: 0.4236 - val_loss: 2.7449 - val_accuracy: 0.3472\n",
      "Epoch 6/50\n",
      "135/135 [==============================] - 1691s 13s/step - loss: 2.0470 - accuracy: 0.4824 - val_loss: 2.6105 - val_accuracy: 0.3565\n",
      "Epoch 7/50\n",
      "135/135 [==============================] - 1687s 13s/step - loss: 1.9991 - accuracy: 0.4977 - val_loss: 2.4732 - val_accuracy: 0.3806\n",
      "Epoch 8/50\n",
      "135/135 [==============================] - 1721s 13s/step - loss: 1.8854 - accuracy: 0.5206 - val_loss: 2.4524 - val_accuracy: 0.3991\n",
      "Epoch 9/50\n",
      "135/135 [==============================] - 2092s 16s/step - loss: 1.7879 - accuracy: 0.5370 - val_loss: 2.5444 - val_accuracy: 0.3861\n",
      "Epoch 10/50\n",
      "135/135 [==============================] - 2013s 15s/step - loss: 1.6127 - accuracy: 0.5887 - val_loss: 2.4190 - val_accuracy: 0.4269\n",
      "Epoch 11/50\n",
      "135/135 [==============================] - 2102s 16s/step - loss: 1.5969 - accuracy: 0.5933 - val_loss: 2.4787 - val_accuracy: 0.4157\n",
      "Epoch 12/50\n",
      "135/135 [==============================] - 1822s 13s/step - loss: 1.4981 - accuracy: 0.6090 - val_loss: 2.6249 - val_accuracy: 0.3917\n",
      "Epoch 13/50\n",
      "135/135 [==============================] - 2529s 19s/step - loss: 1.4677 - accuracy: 0.6181 - val_loss: 2.2519 - val_accuracy: 0.4546\n",
      "Epoch 14/50\n",
      "135/135 [==============================] - 2026s 15s/step - loss: 1.3522 - accuracy: 0.6400 - val_loss: 2.3233 - val_accuracy: 0.4463\n",
      "Epoch 15/50\n",
      "135/135 [==============================] - 1723s 13s/step - loss: 1.3011 - accuracy: 0.6477 - val_loss: 2.2179 - val_accuracy: 0.4593\n",
      "Epoch 16/50\n",
      "135/135 [==============================] - 1746s 13s/step - loss: 1.2599 - accuracy: 0.6593 - val_loss: 2.2543 - val_accuracy: 0.4630\n",
      "Epoch 17/50\n",
      "135/135 [==============================] - 1638s 12s/step - loss: 1.2314 - accuracy: 0.6734 - val_loss: 2.1723 - val_accuracy: 0.4648\n",
      "Epoch 18/50\n",
      "135/135 [==============================] - 1653s 12s/step - loss: 1.1397 - accuracy: 0.6933 - val_loss: 2.2801 - val_accuracy: 0.4713\n",
      "Epoch 19/50\n",
      "135/135 [==============================] - 1980s 15s/step - loss: 1.1387 - accuracy: 0.6866 - val_loss: 2.1290 - val_accuracy: 0.4759\n",
      "Epoch 20/50\n",
      "135/135 [==============================] - 19367s 144s/step - loss: 1.0854 - accuracy: 0.7063 - val_loss: 2.1359 - val_accuracy: 0.4954\n",
      "Epoch 21/50\n",
      "135/135 [==============================] - 2021s 15s/step - loss: 1.0580 - accuracy: 0.7116 - val_loss: 2.2976 - val_accuracy: 0.4648\n",
      "Epoch 22/50\n",
      "135/135 [==============================] - 2113s 16s/step - loss: 1.0036 - accuracy: 0.7289 - val_loss: 2.1391 - val_accuracy: 0.4917\n",
      "Epoch 23/50\n",
      "135/135 [==============================] - 6282s 47s/step - loss: 0.9697 - accuracy: 0.7361 - val_loss: 2.2168 - val_accuracy: 0.4944\n",
      "Epoch 24/50\n",
      "135/135 [==============================] - 1887s 14s/step - loss: 0.9572 - accuracy: 0.7380 - val_loss: 2.2086 - val_accuracy: 0.5074\n",
      "Epoch 24: early stopping\n"
     ]
    }
   ],
   "source": [
    "history=model.fit(train_generator,epochs=50,validation_data=test_generator,callbacks=callback)"
   ]
  },
  {
   "cell_type": "code",
   "execution_count": 28,
   "metadata": {},
   "outputs": [],
   "source": [
    "import matplotlib.pyplot as plt \n"
   ]
  },
  {
   "cell_type": "code",
   "execution_count": 29,
   "metadata": {},
   "outputs": [
    {
     "data": {
      "image/png": "[encoded data removed]",
      "text/plain": [
       "<Figure size 640x480 with 1 Axes>"
      ]
     },
     "metadata": {},
     "output_type": "display_data"
    }
   ],
   "source": [
    "plt.plot(history.history['accuracy'],color='red',label='train')\n",
    "plt.plot(history.history['val_accuracy'],color='blue',label='validation')\n",
    "plt.legend()\n",
    "plt.show()"
   ]
  },
  {
   "cell_type": "markdown",
   "metadata": {},
   "source": [
    "### testing the model "
   ]
  },
  {
   "cell_type": "code",
   "execution_count": 5,
   "metadata": {},
   "outputs": [],
   "source": [
    "from tensorflow.keras.models import load_model"
   ]
  },
  {
   "cell_type": "code",
   "execution_count": 6,
   "metadata": {},
   "outputs": [],
   "source": [
    "model=load_model('animal_classifier.h5')"
   ]
  },
  {
   "cell_type": "code",
   "execution_count": 1,
   "metadata": {},
   "outputs": [],
   "source": [
    "from tensorflow.keras.preprocessing import image"
   ]
  },
  {
   "cell_type": "code",
   "execution_count": 2,
   "metadata": {},
   "outputs": [],
   "source": [
    "import numpy as np"
   ]
  },
  {
   "cell_type": "code",
   "execution_count": 27,
   "metadata": {},
   "outputs": [
    {
     "name": "stdout",
     "output_type": "stream",
     "text": [
      "1/1 [==============================] - 0s 291ms/step\n"
     ]
    }
   ],
   "source": [
    "img_path='sample/dog.jpg'\n",
    "img=image.load_img(img_path,target_size=(224,224))\n",
    "img_array=image.img_to_array(img)\n",
    "img_array=np.expand_dims(img_array,axis=0)\n",
    "img_array /=255.0\n",
    "predictions=model.predict(img_array)"
   ]
  },
  {
   "cell_type": "code",
   "execution_count": 28,
   "metadata": {},
   "outputs": [],
   "source": [
    "max_idx=np.argmax(predictions)"
   ]
  },
  {
   "cell_type": "code",
   "execution_count": 29,
   "metadata": {},
   "outputs": [
    {
     "data": {
      "text/plain": [
       "33"
      ]
     },
     "execution_count": 29,
     "metadata": {},
     "output_type": "execute_result"
    }
   ],
   "source": [
    "max_idx"
   ]
  },
  {
   "cell_type": "code",
   "execution_count": 13,
   "metadata": {},
   "outputs": [],
   "source": [
    "import os"
   ]
  },
  {
   "cell_type": "code",
   "execution_count": 14,
   "metadata": {},
   "outputs": [],
   "source": [
    "finames=os.listdir('dataset/animals')"
   ]
  },
  {
   "cell_type": "code",
   "execution_count": 30,
   "metadata": {},
   "outputs": [
    {
     "data": {
      "text/plain": [
       "'hamster'"
      ]
     },
     "execution_count": 30,
     "metadata": {},
     "output_type": "execute_result"
    }
   ],
   "source": [
    "finames[max_idx]"
   ]
  },
  {
   "cell_type": "markdown",
   "metadata": {},
   "source": [
    "### Save the model "
   ]
  },
  {
   "cell_type": "code",
   "execution_count": null,
   "metadata": {},
   "outputs": [],
   "source": [
    "model.save('animal_classifier.h5')"
   ]
  }
 ],
 "metadata": {
  "kernelspec": {
   "display_name": "Python 3",
   "language": "python",
   "name": "python3"
  },
  "language_info": {
   "codemirror_mode": {
    "name": "ipython",
    "version": 3
   },
   "file_extension": ".py",
   "mimetype": "text/x-python",
   "name": "python",
   "nbconvert_exporter": "python",
   "pygments_lexer": "ipython3",
   "version": "3.10.6"
  }
 },
 "nbformat": 4,
 "nbformat_minor": 2
}
